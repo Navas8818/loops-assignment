{
 "cells": [
  {
   "cell_type": "markdown",
   "id": "79124852-7cf3-44e2-9671-8ec0582c99fa",
   "metadata": {},
   "source": [
    "1.Print number from 1 to 5 using a while loop."
   ]
  },
  {
   "cell_type": "code",
   "execution_count": 7,
   "id": "44f1fb57-ed03-4199-814d-a511a876eb49",
   "metadata": {},
   "outputs": [
    {
     "name": "stdout",
     "output_type": "stream",
     "text": [
      "1\n",
      "2\n",
      "3\n",
      "4\n",
      "5\n"
     ]
    }
   ],
   "source": [
    "a = 1\n",
    "while a<=5:\n",
    "    print(a)\n",
    "    a += 1"
   ]
  },
  {
   "cell_type": "markdown",
   "id": "4f629868-98d7-437f-8b5c-56f3a602ce1f",
   "metadata": {},
   "source": [
    "2.Calculate the sum of numbers from 1 to 10 using a while loop."
   ]
  },
  {
   "cell_type": "code",
   "execution_count": 21,
   "id": "55eca655-99ce-4ee7-862d-fea45dc0aee2",
   "metadata": {},
   "outputs": [
    {
     "name": "stdout",
     "output_type": "stream",
     "text": [
      "Answer is: 55\n"
     ]
    }
   ],
   "source": [
    "a = 1\n",
    "sum = 0\n",
    "while a <= 10:\n",
    "    sum = sum + a\n",
    "    a += 1\n",
    "print(\"Answer is:\", sum)"
   ]
  },
  {
   "cell_type": "markdown",
   "id": "7ef50ff0-09ca-4149-a5b2-3e0b4997a79b",
   "metadata": {},
   "source": [
    "3.Calculate the factorial of a number using a for loop."
   ]
  },
  {
   "cell_type": "code",
   "execution_count": 53,
   "id": "ff3623e0-e69c-4c97-afaf-587817e1425a",
   "metadata": {
    "tags": []
   },
   "outputs": [
    {
     "name": "stdin",
     "output_type": "stream",
     "text": [
      "Enter any number:  5\n"
     ]
    },
    {
     "name": "stdout",
     "output_type": "stream",
     "text": [
      "Factorial is 5\n",
      "Factorial is 20\n",
      "Factorial is 60\n",
      "Factorial is 120\n",
      "Factorial is 120\n"
     ]
    }
   ],
   "source": [
    "n = int(input(\"Enter any number: \"))\n",
    "f = 1\n",
    "for i in range(n,0, -1):\n",
    "    f *= i\n",
    "    print(\"Factorial is\", f)"
   ]
  },
  {
   "cell_type": "markdown",
   "id": "b27420f3-38c7-4684-b810-f9af4074c4f1",
   "metadata": {},
   "source": [
    "4.Count the number of vowels in a string using a for loop."
   ]
  },
  {
   "cell_type": "code",
   "execution_count": 19,
   "id": "e35be728-8017-40ea-8bdd-5e44d1e706dd",
   "metadata": {},
   "outputs": [
    {
     "name": "stdin",
     "output_type": "stream",
     "text": [
      "Enter a string: hello pwskills\n"
     ]
    },
    {
     "name": "stdout",
     "output_type": "stream",
     "text": [
      "answeris: 3\n"
     ]
    }
   ],
   "source": [
    "a = input(\"Enter a string:\")\n",
    "a_lower = a.lower()\n",
    "vowels = \"aeiou\"\n",
    "count=0\n",
    "for i in a_lower:\n",
    "    if i in vowels:\n",
    "     count = count + 1\n",
    "print(\"answeris:\" ,count)"
   ]
  },
  {
   "cell_type": "markdown",
   "id": "03fc2ec6-8dfc-4487-92ef-d96fc9ef3255",
   "metadata": {},
   "source": [
    "5. print a pattern using nested loops"
   ]
  },
  {
   "cell_type": "code",
   "execution_count": 20,
   "id": "f7f593de-6d58-4824-a4c4-1e98ad226644",
   "metadata": {},
   "outputs": [
    {
     "name": "stdout",
     "output_type": "stream",
     "text": [
      "* * * * * \n",
      "* * * * \n",
      "* * * \n",
      "* * \n",
      "* \n"
     ]
    }
   ],
   "source": [
    "for a in range(5,0,-1):\n",
    "    for b in range(1, a+1):\n",
    "        print(\"*\", end=' ')\n",
    "    print()"
   ]
  },
  {
   "cell_type": "markdown",
   "id": "ee008a8e-2811-44e4-a26f-64542974af8d",
   "metadata": {},
   "source": [
    "6.Generate a multiplication table using nested loops."
   ]
  },
  {
   "cell_type": "code",
   "execution_count": 4,
   "id": "a2dd806b-03a6-4073-9a28-6c0f3160c339",
   "metadata": {},
   "outputs": [
    {
     "name": "stdout",
     "output_type": "stream",
     "text": [
      " 1 * 1 = 1\n",
      " 1 * 2 = 2\n",
      " 1 * 3 = 3\n",
      " 1 * 4 = 4\n",
      " 1 * 5 = 5\n",
      " 1 * 6 = 6\n",
      " 1 * 7 = 7\n",
      " 1 * 8 = 8\n",
      " 1 * 9 = 9\n",
      " 1 * 10 = 10\n",
      "\n",
      "\n",
      " 2 * 1 = 2\n",
      " 2 * 2 = 4\n",
      " 2 * 3 = 6\n",
      " 2 * 4 = 8\n",
      " 2 * 5 = 10\n",
      " 2 * 6 = 12\n",
      " 2 * 7 = 14\n",
      " 2 * 8 = 16\n",
      " 2 * 9 = 18\n",
      " 2 * 10 = 20\n",
      "\n",
      "\n",
      " 3 * 1 = 3\n",
      " 3 * 2 = 6\n",
      " 3 * 3 = 9\n",
      " 3 * 4 = 12\n",
      " 3 * 5 = 15\n",
      " 3 * 6 = 18\n",
      " 3 * 7 = 21\n",
      " 3 * 8 = 24\n",
      " 3 * 9 = 27\n",
      " 3 * 10 = 30\n",
      "\n",
      "\n",
      " 4 * 1 = 4\n",
      " 4 * 2 = 8\n",
      " 4 * 3 = 12\n",
      " 4 * 4 = 16\n",
      " 4 * 5 = 20\n",
      " 4 * 6 = 24\n",
      " 4 * 7 = 28\n",
      " 4 * 8 = 32\n",
      " 4 * 9 = 36\n",
      " 4 * 10 = 40\n",
      "\n",
      "\n",
      " 5 * 1 = 5\n",
      " 5 * 2 = 10\n",
      " 5 * 3 = 15\n",
      " 5 * 4 = 20\n",
      " 5 * 5 = 25\n",
      " 5 * 6 = 30\n",
      " 5 * 7 = 35\n",
      " 5 * 8 = 40\n",
      " 5 * 9 = 45\n",
      " 5 * 10 = 50\n",
      "\n",
      "\n"
     ]
    }
   ],
   "source": [
    "for i in range (1,6):\n",
    "    for j in range(1,11):\n",
    "        product = i * j\n",
    "        print(f\" {i} * {j} = {product}\")\n",
    "    print()\n",
    "    print()\n",
    "        "
   ]
  },
  {
   "cell_type": "code",
   "execution_count": null,
   "id": "a5c1a354-32a6-4ce0-a59e-4553e8d421ff",
   "metadata": {},
   "outputs": [],
   "source": []
  }
 ],
 "metadata": {
  "kernelspec": {
   "display_name": "Python 3 (ipykernel)",
   "language": "python",
   "name": "python3"
  },
  "language_info": {
   "codemirror_mode": {
    "name": "ipython",
    "version": 3
   },
   "file_extension": ".py",
   "mimetype": "text/x-python",
   "name": "python",
   "nbconvert_exporter": "python",
   "pygments_lexer": "ipython3",
   "version": "3.10.8"
  }
 },
 "nbformat": 4,
 "nbformat_minor": 5
}
